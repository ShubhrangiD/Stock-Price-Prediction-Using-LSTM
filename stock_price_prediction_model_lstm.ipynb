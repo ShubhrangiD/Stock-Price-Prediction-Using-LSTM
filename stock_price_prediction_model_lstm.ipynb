{
  "nbformat": 4,
  "nbformat_minor": 0,
  "metadata": {
    "colab": {
      "provenance": []
    },
    "kernelspec": {
      "name": "python3",
      "display_name": "Python 3"
    },
    "language_info": {
      "name": "python"
    }
  },
  "cells": [
    {
      "cell_type": "code",
      "execution_count": 10,
      "metadata": {
        "id": "5eNHQ3sE8zPg"
      },
      "outputs": [],
      "source": [
        "import numpy as np\n",
        "import pandas as pd\n",
        "import matplotlib.pyplot as plt\n",
        "import yfinance as yf\n",
        "from datetime import datetime"
      ]
    },
    {
      "cell_type": "code",
      "source": [
        "start = '2012-01-01'\n",
        "end = '2023-12-21'\n",
        "\n",
        "stock = 'GOOG'\n",
        "data = yf.download(stock,start,end)"
      ],
      "metadata": {
        "colab": {
          "base_uri": "https://localhost:8080/"
        },
        "id": "SAH3QRli9KQA",
        "outputId": "7786f974-90f1-4fc1-f4d0-002de7acbefa"
      },
      "execution_count": 13,
      "outputs": [
        {
          "output_type": "stream",
          "name": "stderr",
          "text": [
            "\r[*********************100%%**********************]  1 of 1 completed\n"
          ]
        }
      ]
    },
    {
      "cell_type": "code",
      "source": [
        "data.head()"
      ],
      "metadata": {
        "colab": {
          "base_uri": "https://localhost:8080/",
          "height": 238
        },
        "id": "y4ulthYD98hY",
        "outputId": "d4540fd8-8ee4-4be4-cd84-e4fef25f8c82"
      },
      "execution_count": 14,
      "outputs": [
        {
          "output_type": "execute_result",
          "data": {
            "text/plain": [
              "                 Open       High        Low      Close  Adj Close   Volume\n",
              "Date                                                                      \n",
              "2014-03-27  28.322241  28.322241  27.570307  27.846546  27.814894   262719\n",
              "2014-03-28  27.983171  28.243956  27.857019  27.922838  27.891100   824257\n",
              "2014-03-31  28.266893  28.272379  27.770258  27.772251  27.740683   216593\n",
              "2014-04-01  27.859013  28.344681  27.859013  28.280355  28.248211   158434\n",
              "2014-04-02  29.917362  30.158699  28.032537  28.272379  28.240242  2942055"
            ],
            "text/html": [
              "\n",
              "  <div id=\"df-aa88b223-aae5-4266-b037-a4655d4ed755\" class=\"colab-df-container\">\n",
              "    <div>\n",
              "<style scoped>\n",
              "    .dataframe tbody tr th:only-of-type {\n",
              "        vertical-align: middle;\n",
              "    }\n",
              "\n",
              "    .dataframe tbody tr th {\n",
              "        vertical-align: top;\n",
              "    }\n",
              "\n",
              "    .dataframe thead th {\n",
              "        text-align: right;\n",
              "    }\n",
              "</style>\n",
              "<table border=\"1\" class=\"dataframe\">\n",
              "  <thead>\n",
              "    <tr style=\"text-align: right;\">\n",
              "      <th></th>\n",
              "      <th>Open</th>\n",
              "      <th>High</th>\n",
              "      <th>Low</th>\n",
              "      <th>Close</th>\n",
              "      <th>Adj Close</th>\n",
              "      <th>Volume</th>\n",
              "    </tr>\n",
              "    <tr>\n",
              "      <th>Date</th>\n",
              "      <th></th>\n",
              "      <th></th>\n",
              "      <th></th>\n",
              "      <th></th>\n",
              "      <th></th>\n",
              "      <th></th>\n",
              "    </tr>\n",
              "  </thead>\n",
              "  <tbody>\n",
              "    <tr>\n",
              "      <th>2014-03-27</th>\n",
              "      <td>28.322241</td>\n",
              "      <td>28.322241</td>\n",
              "      <td>27.570307</td>\n",
              "      <td>27.846546</td>\n",
              "      <td>27.814894</td>\n",
              "      <td>262719</td>\n",
              "    </tr>\n",
              "    <tr>\n",
              "      <th>2014-03-28</th>\n",
              "      <td>27.983171</td>\n",
              "      <td>28.243956</td>\n",
              "      <td>27.857019</td>\n",
              "      <td>27.922838</td>\n",
              "      <td>27.891100</td>\n",
              "      <td>824257</td>\n",
              "    </tr>\n",
              "    <tr>\n",
              "      <th>2014-03-31</th>\n",
              "      <td>28.266893</td>\n",
              "      <td>28.272379</td>\n",
              "      <td>27.770258</td>\n",
              "      <td>27.772251</td>\n",
              "      <td>27.740683</td>\n",
              "      <td>216593</td>\n",
              "    </tr>\n",
              "    <tr>\n",
              "      <th>2014-04-01</th>\n",
              "      <td>27.859013</td>\n",
              "      <td>28.344681</td>\n",
              "      <td>27.859013</td>\n",
              "      <td>28.280355</td>\n",
              "      <td>28.248211</td>\n",
              "      <td>158434</td>\n",
              "    </tr>\n",
              "    <tr>\n",
              "      <th>2014-04-02</th>\n",
              "      <td>29.917362</td>\n",
              "      <td>30.158699</td>\n",
              "      <td>28.032537</td>\n",
              "      <td>28.272379</td>\n",
              "      <td>28.240242</td>\n",
              "      <td>2942055</td>\n",
              "    </tr>\n",
              "  </tbody>\n",
              "</table>\n",
              "</div>\n",
              "    <div class=\"colab-df-buttons\">\n",
              "\n",
              "  <div class=\"colab-df-container\">\n",
              "    <button class=\"colab-df-convert\" onclick=\"convertToInteractive('df-aa88b223-aae5-4266-b037-a4655d4ed755')\"\n",
              "            title=\"Convert this dataframe to an interactive table.\"\n",
              "            style=\"display:none;\">\n",
              "\n",
              "  <svg xmlns=\"http://www.w3.org/2000/svg\" height=\"24px\" viewBox=\"0 -960 960 960\">\n",
              "    <path d=\"M120-120v-720h720v720H120Zm60-500h600v-160H180v160Zm220 220h160v-160H400v160Zm0 220h160v-160H400v160ZM180-400h160v-160H180v160Zm440 0h160v-160H620v160ZM180-180h160v-160H180v160Zm440 0h160v-160H620v160Z\"/>\n",
              "  </svg>\n",
              "    </button>\n",
              "\n",
              "  <style>\n",
              "    .colab-df-container {\n",
              "      display:flex;\n",
              "      gap: 12px;\n",
              "    }\n",
              "\n",
              "    .colab-df-convert {\n",
              "      background-color: #E8F0FE;\n",
              "      border: none;\n",
              "      border-radius: 50%;\n",
              "      cursor: pointer;\n",
              "      display: none;\n",
              "      fill: #1967D2;\n",
              "      height: 32px;\n",
              "      padding: 0 0 0 0;\n",
              "      width: 32px;\n",
              "    }\n",
              "\n",
              "    .colab-df-convert:hover {\n",
              "      background-color: #E2EBFA;\n",
              "      box-shadow: 0px 1px 2px rgba(60, 64, 67, 0.3), 0px 1px 3px 1px rgba(60, 64, 67, 0.15);\n",
              "      fill: #174EA6;\n",
              "    }\n",
              "\n",
              "    .colab-df-buttons div {\n",
              "      margin-bottom: 4px;\n",
              "    }\n",
              "\n",
              "    [theme=dark] .colab-df-convert {\n",
              "      background-color: #3B4455;\n",
              "      fill: #D2E3FC;\n",
              "    }\n",
              "\n",
              "    [theme=dark] .colab-df-convert:hover {\n",
              "      background-color: #434B5C;\n",
              "      box-shadow: 0px 1px 3px 1px rgba(0, 0, 0, 0.15);\n",
              "      filter: drop-shadow(0px 1px 2px rgba(0, 0, 0, 0.3));\n",
              "      fill: #FFFFFF;\n",
              "    }\n",
              "  </style>\n",
              "\n",
              "    <script>\n",
              "      const buttonEl =\n",
              "        document.querySelector('#df-aa88b223-aae5-4266-b037-a4655d4ed755 button.colab-df-convert');\n",
              "      buttonEl.style.display =\n",
              "        google.colab.kernel.accessAllowed ? 'block' : 'none';\n",
              "\n",
              "      async function convertToInteractive(key) {\n",
              "        const element = document.querySelector('#df-aa88b223-aae5-4266-b037-a4655d4ed755');\n",
              "        const dataTable =\n",
              "          await google.colab.kernel.invokeFunction('convertToInteractive',\n",
              "                                                    [key], {});\n",
              "        if (!dataTable) return;\n",
              "\n",
              "        const docLinkHtml = 'Like what you see? Visit the ' +\n",
              "          '<a target=\"_blank\" href=https://colab.research.google.com/notebooks/data_table.ipynb>data table notebook</a>'\n",
              "          + ' to learn more about interactive tables.';\n",
              "        element.innerHTML = '';\n",
              "        dataTable['output_type'] = 'display_data';\n",
              "        await google.colab.output.renderOutput(dataTable, element);\n",
              "        const docLink = document.createElement('div');\n",
              "        docLink.innerHTML = docLinkHtml;\n",
              "        element.appendChild(docLink);\n",
              "      }\n",
              "    </script>\n",
              "  </div>\n",
              "\n",
              "\n",
              "<div id=\"df-5e8cb78e-358c-4249-8d42-255c606cb4fa\">\n",
              "  <button class=\"colab-df-quickchart\" onclick=\"quickchart('df-5e8cb78e-358c-4249-8d42-255c606cb4fa')\"\n",
              "            title=\"Suggest charts\"\n",
              "            style=\"display:none;\">\n",
              "\n",
              "<svg xmlns=\"http://www.w3.org/2000/svg\" height=\"24px\"viewBox=\"0 0 24 24\"\n",
              "     width=\"24px\">\n",
              "    <g>\n",
              "        <path d=\"M19 3H5c-1.1 0-2 .9-2 2v14c0 1.1.9 2 2 2h14c1.1 0 2-.9 2-2V5c0-1.1-.9-2-2-2zM9 17H7v-7h2v7zm4 0h-2V7h2v10zm4 0h-2v-4h2v4z\"/>\n",
              "    </g>\n",
              "</svg>\n",
              "  </button>\n",
              "\n",
              "<style>\n",
              "  .colab-df-quickchart {\n",
              "      --bg-color: #E8F0FE;\n",
              "      --fill-color: #1967D2;\n",
              "      --hover-bg-color: #E2EBFA;\n",
              "      --hover-fill-color: #174EA6;\n",
              "      --disabled-fill-color: #AAA;\n",
              "      --disabled-bg-color: #DDD;\n",
              "  }\n",
              "\n",
              "  [theme=dark] .colab-df-quickchart {\n",
              "      --bg-color: #3B4455;\n",
              "      --fill-color: #D2E3FC;\n",
              "      --hover-bg-color: #434B5C;\n",
              "      --hover-fill-color: #FFFFFF;\n",
              "      --disabled-bg-color: #3B4455;\n",
              "      --disabled-fill-color: #666;\n",
              "  }\n",
              "\n",
              "  .colab-df-quickchart {\n",
              "    background-color: var(--bg-color);\n",
              "    border: none;\n",
              "    border-radius: 50%;\n",
              "    cursor: pointer;\n",
              "    display: none;\n",
              "    fill: var(--fill-color);\n",
              "    height: 32px;\n",
              "    padding: 0;\n",
              "    width: 32px;\n",
              "  }\n",
              "\n",
              "  .colab-df-quickchart:hover {\n",
              "    background-color: var(--hover-bg-color);\n",
              "    box-shadow: 0 1px 2px rgba(60, 64, 67, 0.3), 0 1px 3px 1px rgba(60, 64, 67, 0.15);\n",
              "    fill: var(--button-hover-fill-color);\n",
              "  }\n",
              "\n",
              "  .colab-df-quickchart-complete:disabled,\n",
              "  .colab-df-quickchart-complete:disabled:hover {\n",
              "    background-color: var(--disabled-bg-color);\n",
              "    fill: var(--disabled-fill-color);\n",
              "    box-shadow: none;\n",
              "  }\n",
              "\n",
              "  .colab-df-spinner {\n",
              "    border: 2px solid var(--fill-color);\n",
              "    border-color: transparent;\n",
              "    border-bottom-color: var(--fill-color);\n",
              "    animation:\n",
              "      spin 1s steps(1) infinite;\n",
              "  }\n",
              "\n",
              "  @keyframes spin {\n",
              "    0% {\n",
              "      border-color: transparent;\n",
              "      border-bottom-color: var(--fill-color);\n",
              "      border-left-color: var(--fill-color);\n",
              "    }\n",
              "    20% {\n",
              "      border-color: transparent;\n",
              "      border-left-color: var(--fill-color);\n",
              "      border-top-color: var(--fill-color);\n",
              "    }\n",
              "    30% {\n",
              "      border-color: transparent;\n",
              "      border-left-color: var(--fill-color);\n",
              "      border-top-color: var(--fill-color);\n",
              "      border-right-color: var(--fill-color);\n",
              "    }\n",
              "    40% {\n",
              "      border-color: transparent;\n",
              "      border-right-color: var(--fill-color);\n",
              "      border-top-color: var(--fill-color);\n",
              "    }\n",
              "    60% {\n",
              "      border-color: transparent;\n",
              "      border-right-color: var(--fill-color);\n",
              "    }\n",
              "    80% {\n",
              "      border-color: transparent;\n",
              "      border-right-color: var(--fill-color);\n",
              "      border-bottom-color: var(--fill-color);\n",
              "    }\n",
              "    90% {\n",
              "      border-color: transparent;\n",
              "      border-bottom-color: var(--fill-color);\n",
              "    }\n",
              "  }\n",
              "</style>\n",
              "\n",
              "  <script>\n",
              "    async function quickchart(key) {\n",
              "      const quickchartButtonEl =\n",
              "        document.querySelector('#' + key + ' button');\n",
              "      quickchartButtonEl.disabled = true;  // To prevent multiple clicks.\n",
              "      quickchartButtonEl.classList.add('colab-df-spinner');\n",
              "      try {\n",
              "        const charts = await google.colab.kernel.invokeFunction(\n",
              "            'suggestCharts', [key], {});\n",
              "      } catch (error) {\n",
              "        console.error('Error during call to suggestCharts:', error);\n",
              "      }\n",
              "      quickchartButtonEl.classList.remove('colab-df-spinner');\n",
              "      quickchartButtonEl.classList.add('colab-df-quickchart-complete');\n",
              "    }\n",
              "    (() => {\n",
              "      let quickchartButtonEl =\n",
              "        document.querySelector('#df-5e8cb78e-358c-4249-8d42-255c606cb4fa button');\n",
              "      quickchartButtonEl.style.display =\n",
              "        google.colab.kernel.accessAllowed ? 'block' : 'none';\n",
              "    })();\n",
              "  </script>\n",
              "</div>\n",
              "\n",
              "    </div>\n",
              "  </div>\n"
            ],
            "application/vnd.google.colaboratory.intrinsic+json": {
              "type": "dataframe",
              "variable_name": "data",
              "summary": "{\n  \"name\": \"data\",\n  \"rows\": 2452,\n  \"fields\": [\n    {\n      \"column\": \"Date\",\n      \"properties\": {\n        \"dtype\": \"date\",\n        \"min\": \"2014-03-27 00:00:00\",\n        \"max\": \"2023-12-20 00:00:00\",\n        \"num_unique_values\": 2452,\n        \"samples\": [\n          \"2022-08-18 00:00:00\",\n          \"2017-01-05 00:00:00\",\n          \"2018-11-08 00:00:00\"\n        ],\n        \"semantic_type\": \"\",\n        \"description\": \"\"\n      }\n    },\n    {\n      \"column\": \"Open\",\n      \"properties\": {\n        \"dtype\": \"number\",\n        \"std\": 37.07433701929391,\n        \"min\": 24.664783477783203,\n        \"max\": 151.86349487304688,\n        \"num_unique_values\": 2383,\n        \"samples\": [\n          37.11800003051758,\n          132.9199981689453,\n          102.09200286865234\n        ],\n        \"semantic_type\": \"\",\n        \"description\": \"\"\n      }\n    },\n    {\n      \"column\": \"High\",\n      \"properties\": {\n        \"dtype\": \"number\",\n        \"std\": 37.528438028518394,\n        \"min\": 24.73090171813965,\n        \"max\": 152.10000610351562,\n        \"num_unique_values\": 2415,\n        \"samples\": [\n          37.895999908447266,\n          25.092607498168945,\n          87.0425033569336\n        ],\n        \"semantic_type\": \"\",\n        \"description\": \"\"\n      }\n    },\n    {\n      \"column\": \"Low\",\n      \"properties\": {\n        \"dtype\": \"number\",\n        \"std\": 36.67174897615443,\n        \"min\": 24.31125259399414,\n        \"max\": 149.8874969482422,\n        \"num_unique_values\": 2417,\n        \"samples\": [\n          35.56650161743164,\n          24.582508087158203,\n          87.80400085449219\n        ],\n        \"semantic_type\": \"\",\n        \"description\": \"\"\n      }\n    },\n    {\n      \"column\": \"Close\",\n      \"properties\": {\n        \"dtype\": \"number\",\n        \"std\": 37.09945422199359,\n        \"min\": 24.560070037841797,\n        \"max\": 150.70899963378906,\n        \"num_unique_values\": 2416,\n        \"samples\": [\n          37.0,\n          24.974931716918945,\n          90.92749786376953\n        ],\n        \"semantic_type\": \"\",\n        \"description\": \"\"\n      }\n    },\n    {\n      \"column\": \"Adj Close\",\n      \"properties\": {\n        \"dtype\": \"number\",\n        \"std\": 37.05728472213485,\n        \"min\": 24.532154083251953,\n        \"max\": 150.53768920898438,\n        \"num_unique_values\": 2416,\n        \"samples\": [\n          36.957942962646484,\n          24.946544647216797,\n          90.82414245605469\n        ],\n        \"semantic_type\": \"\",\n        \"description\": \"\"\n      }\n    },\n    {\n      \"column\": \"Volume\",\n      \"properties\": {\n        \"dtype\": \"number\",\n        \"std\": 15987466,\n        \"min\": 158434,\n        \"max\": 223298000,\n        \"num_unique_values\": 2368,\n        \"samples\": [\n          26628000,\n          20810980,\n          16916000\n        ],\n        \"semantic_type\": \"\",\n        \"description\": \"\"\n      }\n    }\n  ]\n}"
            }
          },
          "metadata": {},
          "execution_count": 14
        }
      ]
    },
    {
      "cell_type": "code",
      "source": [
        "data.reset_index(inplace=True)"
      ],
      "metadata": {
        "id": "dmF1RZDX-5x7"
      },
      "execution_count": 15,
      "outputs": []
    },
    {
      "cell_type": "code",
      "source": [
        "data"
      ],
      "metadata": {
        "colab": {
          "base_uri": "https://localhost:8080/",
          "height": 424
        },
        "id": "Zvpo0cwU_Nlj",
        "outputId": "744a18ba-4d5f-41be-873e-10a7e2aab514"
      },
      "execution_count": 16,
      "outputs": [
        {
          "output_type": "execute_result",
          "data": {
            "text/plain": [
              "           Date        Open        High         Low       Close   Adj Close  \\\n",
              "0    2014-03-27   28.322241   28.322241   27.570307   27.846546   27.814894   \n",
              "1    2014-03-28   27.983171   28.243956   27.857019   27.922838   27.891100   \n",
              "2    2014-03-31   28.266893   28.272379   27.770258   27.772251   27.740683   \n",
              "3    2014-04-01   27.859013   28.344681   27.859013   28.280355   28.248211   \n",
              "4    2014-04-02   29.917362   30.158699   28.032537   28.272379   28.240242   \n",
              "...         ...         ...         ...         ...         ...         ...   \n",
              "2447 2023-12-14  134.770004  135.035004  131.059998  133.199997  133.048599   \n",
              "2448 2023-12-15  132.919998  134.830002  132.630005  133.839996  133.687866   \n",
              "2449 2023-12-18  133.860001  138.380005  133.770004  137.190002  137.034058   \n",
              "2450 2023-12-19  138.000000  138.770004  137.449997  138.100006  137.943039   \n",
              "2451 2023-12-20  140.330002  143.078003  139.410004  139.660004  139.501251   \n",
              "\n",
              "        Volume  \n",
              "0       262719  \n",
              "1       824257  \n",
              "2       216593  \n",
              "3       158434  \n",
              "4      2942055  \n",
              "...        ...  \n",
              "2447  29619100  \n",
              "2448  58569400  \n",
              "2449  25699800  \n",
              "2450  20661000  \n",
              "2451  33507300  \n",
              "\n",
              "[2452 rows x 7 columns]"
            ],
            "text/html": [
              "\n",
              "  <div id=\"df-2aab3983-cba4-4d90-afb5-3335aa67a6af\" class=\"colab-df-container\">\n",
              "    <div>\n",
              "<style scoped>\n",
              "    .dataframe tbody tr th:only-of-type {\n",
              "        vertical-align: middle;\n",
              "    }\n",
              "\n",
              "    .dataframe tbody tr th {\n",
              "        vertical-align: top;\n",
              "    }\n",
              "\n",
              "    .dataframe thead th {\n",
              "        text-align: right;\n",
              "    }\n",
              "</style>\n",
              "<table border=\"1\" class=\"dataframe\">\n",
              "  <thead>\n",
              "    <tr style=\"text-align: right;\">\n",
              "      <th></th>\n",
              "      <th>Date</th>\n",
              "      <th>Open</th>\n",
              "      <th>High</th>\n",
              "      <th>Low</th>\n",
              "      <th>Close</th>\n",
              "      <th>Adj Close</th>\n",
              "      <th>Volume</th>\n",
              "    </tr>\n",
              "  </thead>\n",
              "  <tbody>\n",
              "    <tr>\n",
              "      <th>0</th>\n",
              "      <td>2014-03-27</td>\n",
              "      <td>28.322241</td>\n",
              "      <td>28.322241</td>\n",
              "      <td>27.570307</td>\n",
              "      <td>27.846546</td>\n",
              "      <td>27.814894</td>\n",
              "      <td>262719</td>\n",
              "    </tr>\n",
              "    <tr>\n",
              "      <th>1</th>\n",
              "      <td>2014-03-28</td>\n",
              "      <td>27.983171</td>\n",
              "      <td>28.243956</td>\n",
              "      <td>27.857019</td>\n",
              "      <td>27.922838</td>\n",
              "      <td>27.891100</td>\n",
              "      <td>824257</td>\n",
              "    </tr>\n",
              "    <tr>\n",
              "      <th>2</th>\n",
              "      <td>2014-03-31</td>\n",
              "      <td>28.266893</td>\n",
              "      <td>28.272379</td>\n",
              "      <td>27.770258</td>\n",
              "      <td>27.772251</td>\n",
              "      <td>27.740683</td>\n",
              "      <td>216593</td>\n",
              "    </tr>\n",
              "    <tr>\n",
              "      <th>3</th>\n",
              "      <td>2014-04-01</td>\n",
              "      <td>27.859013</td>\n",
              "      <td>28.344681</td>\n",
              "      <td>27.859013</td>\n",
              "      <td>28.280355</td>\n",
              "      <td>28.248211</td>\n",
              "      <td>158434</td>\n",
              "    </tr>\n",
              "    <tr>\n",
              "      <th>4</th>\n",
              "      <td>2014-04-02</td>\n",
              "      <td>29.917362</td>\n",
              "      <td>30.158699</td>\n",
              "      <td>28.032537</td>\n",
              "      <td>28.272379</td>\n",
              "      <td>28.240242</td>\n",
              "      <td>2942055</td>\n",
              "    </tr>\n",
              "    <tr>\n",
              "      <th>...</th>\n",
              "      <td>...</td>\n",
              "      <td>...</td>\n",
              "      <td>...</td>\n",
              "      <td>...</td>\n",
              "      <td>...</td>\n",
              "      <td>...</td>\n",
              "      <td>...</td>\n",
              "    </tr>\n",
              "    <tr>\n",
              "      <th>2447</th>\n",
              "      <td>2023-12-14</td>\n",
              "      <td>134.770004</td>\n",
              "      <td>135.035004</td>\n",
              "      <td>131.059998</td>\n",
              "      <td>133.199997</td>\n",
              "      <td>133.048599</td>\n",
              "      <td>29619100</td>\n",
              "    </tr>\n",
              "    <tr>\n",
              "      <th>2448</th>\n",
              "      <td>2023-12-15</td>\n",
              "      <td>132.919998</td>\n",
              "      <td>134.830002</td>\n",
              "      <td>132.630005</td>\n",
              "      <td>133.839996</td>\n",
              "      <td>133.687866</td>\n",
              "      <td>58569400</td>\n",
              "    </tr>\n",
              "    <tr>\n",
              "      <th>2449</th>\n",
              "      <td>2023-12-18</td>\n",
              "      <td>133.860001</td>\n",
              "      <td>138.380005</td>\n",
              "      <td>133.770004</td>\n",
              "      <td>137.190002</td>\n",
              "      <td>137.034058</td>\n",
              "      <td>25699800</td>\n",
              "    </tr>\n",
              "    <tr>\n",
              "      <th>2450</th>\n",
              "      <td>2023-12-19</td>\n",
              "      <td>138.000000</td>\n",
              "      <td>138.770004</td>\n",
              "      <td>137.449997</td>\n",
              "      <td>138.100006</td>\n",
              "      <td>137.943039</td>\n",
              "      <td>20661000</td>\n",
              "    </tr>\n",
              "    <tr>\n",
              "      <th>2451</th>\n",
              "      <td>2023-12-20</td>\n",
              "      <td>140.330002</td>\n",
              "      <td>143.078003</td>\n",
              "      <td>139.410004</td>\n",
              "      <td>139.660004</td>\n",
              "      <td>139.501251</td>\n",
              "      <td>33507300</td>\n",
              "    </tr>\n",
              "  </tbody>\n",
              "</table>\n",
              "<p>2452 rows × 7 columns</p>\n",
              "</div>\n",
              "    <div class=\"colab-df-buttons\">\n",
              "\n",
              "  <div class=\"colab-df-container\">\n",
              "    <button class=\"colab-df-convert\" onclick=\"convertToInteractive('df-2aab3983-cba4-4d90-afb5-3335aa67a6af')\"\n",
              "            title=\"Convert this dataframe to an interactive table.\"\n",
              "            style=\"display:none;\">\n",
              "\n",
              "  <svg xmlns=\"http://www.w3.org/2000/svg\" height=\"24px\" viewBox=\"0 -960 960 960\">\n",
              "    <path d=\"M120-120v-720h720v720H120Zm60-500h600v-160H180v160Zm220 220h160v-160H400v160Zm0 220h160v-160H400v160ZM180-400h160v-160H180v160Zm440 0h160v-160H620v160ZM180-180h160v-160H180v160Zm440 0h160v-160H620v160Z\"/>\n",
              "  </svg>\n",
              "    </button>\n",
              "\n",
              "  <style>\n",
              "    .colab-df-container {\n",
              "      display:flex;\n",
              "      gap: 12px;\n",
              "    }\n",
              "\n",
              "    .colab-df-convert {\n",
              "      background-color: #E8F0FE;\n",
              "      border: none;\n",
              "      border-radius: 50%;\n",
              "      cursor: pointer;\n",
              "      display: none;\n",
              "      fill: #1967D2;\n",
              "      height: 32px;\n",
              "      padding: 0 0 0 0;\n",
              "      width: 32px;\n",
              "    }\n",
              "\n",
              "    .colab-df-convert:hover {\n",
              "      background-color: #E2EBFA;\n",
              "      box-shadow: 0px 1px 2px rgba(60, 64, 67, 0.3), 0px 1px 3px 1px rgba(60, 64, 67, 0.15);\n",
              "      fill: #174EA6;\n",
              "    }\n",
              "\n",
              "    .colab-df-buttons div {\n",
              "      margin-bottom: 4px;\n",
              "    }\n",
              "\n",
              "    [theme=dark] .colab-df-convert {\n",
              "      background-color: #3B4455;\n",
              "      fill: #D2E3FC;\n",
              "    }\n",
              "\n",
              "    [theme=dark] .colab-df-convert:hover {\n",
              "      background-color: #434B5C;\n",
              "      box-shadow: 0px 1px 3px 1px rgba(0, 0, 0, 0.15);\n",
              "      filter: drop-shadow(0px 1px 2px rgba(0, 0, 0, 0.3));\n",
              "      fill: #FFFFFF;\n",
              "    }\n",
              "  </style>\n",
              "\n",
              "    <script>\n",
              "      const buttonEl =\n",
              "        document.querySelector('#df-2aab3983-cba4-4d90-afb5-3335aa67a6af button.colab-df-convert');\n",
              "      buttonEl.style.display =\n",
              "        google.colab.kernel.accessAllowed ? 'block' : 'none';\n",
              "\n",
              "      async function convertToInteractive(key) {\n",
              "        const element = document.querySelector('#df-2aab3983-cba4-4d90-afb5-3335aa67a6af');\n",
              "        const dataTable =\n",
              "          await google.colab.kernel.invokeFunction('convertToInteractive',\n",
              "                                                    [key], {});\n",
              "        if (!dataTable) return;\n",
              "\n",
              "        const docLinkHtml = 'Like what you see? Visit the ' +\n",
              "          '<a target=\"_blank\" href=https://colab.research.google.com/notebooks/data_table.ipynb>data table notebook</a>'\n",
              "          + ' to learn more about interactive tables.';\n",
              "        element.innerHTML = '';\n",
              "        dataTable['output_type'] = 'display_data';\n",
              "        await google.colab.output.renderOutput(dataTable, element);\n",
              "        const docLink = document.createElement('div');\n",
              "        docLink.innerHTML = docLinkHtml;\n",
              "        element.appendChild(docLink);\n",
              "      }\n",
              "    </script>\n",
              "  </div>\n",
              "\n",
              "\n",
              "<div id=\"df-d9c67898-1712-4c74-90b0-6395203e2d13\">\n",
              "  <button class=\"colab-df-quickchart\" onclick=\"quickchart('df-d9c67898-1712-4c74-90b0-6395203e2d13')\"\n",
              "            title=\"Suggest charts\"\n",
              "            style=\"display:none;\">\n",
              "\n",
              "<svg xmlns=\"http://www.w3.org/2000/svg\" height=\"24px\"viewBox=\"0 0 24 24\"\n",
              "     width=\"24px\">\n",
              "    <g>\n",
              "        <path d=\"M19 3H5c-1.1 0-2 .9-2 2v14c0 1.1.9 2 2 2h14c1.1 0 2-.9 2-2V5c0-1.1-.9-2-2-2zM9 17H7v-7h2v7zm4 0h-2V7h2v10zm4 0h-2v-4h2v4z\"/>\n",
              "    </g>\n",
              "</svg>\n",
              "  </button>\n",
              "\n",
              "<style>\n",
              "  .colab-df-quickchart {\n",
              "      --bg-color: #E8F0FE;\n",
              "      --fill-color: #1967D2;\n",
              "      --hover-bg-color: #E2EBFA;\n",
              "      --hover-fill-color: #174EA6;\n",
              "      --disabled-fill-color: #AAA;\n",
              "      --disabled-bg-color: #DDD;\n",
              "  }\n",
              "\n",
              "  [theme=dark] .colab-df-quickchart {\n",
              "      --bg-color: #3B4455;\n",
              "      --fill-color: #D2E3FC;\n",
              "      --hover-bg-color: #434B5C;\n",
              "      --hover-fill-color: #FFFFFF;\n",
              "      --disabled-bg-color: #3B4455;\n",
              "      --disabled-fill-color: #666;\n",
              "  }\n",
              "\n",
              "  .colab-df-quickchart {\n",
              "    background-color: var(--bg-color);\n",
              "    border: none;\n",
              "    border-radius: 50%;\n",
              "    cursor: pointer;\n",
              "    display: none;\n",
              "    fill: var(--fill-color);\n",
              "    height: 32px;\n",
              "    padding: 0;\n",
              "    width: 32px;\n",
              "  }\n",
              "\n",
              "  .colab-df-quickchart:hover {\n",
              "    background-color: var(--hover-bg-color);\n",
              "    box-shadow: 0 1px 2px rgba(60, 64, 67, 0.3), 0 1px 3px 1px rgba(60, 64, 67, 0.15);\n",
              "    fill: var(--button-hover-fill-color);\n",
              "  }\n",
              "\n",
              "  .colab-df-quickchart-complete:disabled,\n",
              "  .colab-df-quickchart-complete:disabled:hover {\n",
              "    background-color: var(--disabled-bg-color);\n",
              "    fill: var(--disabled-fill-color);\n",
              "    box-shadow: none;\n",
              "  }\n",
              "\n",
              "  .colab-df-spinner {\n",
              "    border: 2px solid var(--fill-color);\n",
              "    border-color: transparent;\n",
              "    border-bottom-color: var(--fill-color);\n",
              "    animation:\n",
              "      spin 1s steps(1) infinite;\n",
              "  }\n",
              "\n",
              "  @keyframes spin {\n",
              "    0% {\n",
              "      border-color: transparent;\n",
              "      border-bottom-color: var(--fill-color);\n",
              "      border-left-color: var(--fill-color);\n",
              "    }\n",
              "    20% {\n",
              "      border-color: transparent;\n",
              "      border-left-color: var(--fill-color);\n",
              "      border-top-color: var(--fill-color);\n",
              "    }\n",
              "    30% {\n",
              "      border-color: transparent;\n",
              "      border-left-color: var(--fill-color);\n",
              "      border-top-color: var(--fill-color);\n",
              "      border-right-color: var(--fill-color);\n",
              "    }\n",
              "    40% {\n",
              "      border-color: transparent;\n",
              "      border-right-color: var(--fill-color);\n",
              "      border-top-color: var(--fill-color);\n",
              "    }\n",
              "    60% {\n",
              "      border-color: transparent;\n",
              "      border-right-color: var(--fill-color);\n",
              "    }\n",
              "    80% {\n",
              "      border-color: transparent;\n",
              "      border-right-color: var(--fill-color);\n",
              "      border-bottom-color: var(--fill-color);\n",
              "    }\n",
              "    90% {\n",
              "      border-color: transparent;\n",
              "      border-bottom-color: var(--fill-color);\n",
              "    }\n",
              "  }\n",
              "</style>\n",
              "\n",
              "  <script>\n",
              "    async function quickchart(key) {\n",
              "      const quickchartButtonEl =\n",
              "        document.querySelector('#' + key + ' button');\n",
              "      quickchartButtonEl.disabled = true;  // To prevent multiple clicks.\n",
              "      quickchartButtonEl.classList.add('colab-df-spinner');\n",
              "      try {\n",
              "        const charts = await google.colab.kernel.invokeFunction(\n",
              "            'suggestCharts', [key], {});\n",
              "      } catch (error) {\n",
              "        console.error('Error during call to suggestCharts:', error);\n",
              "      }\n",
              "      quickchartButtonEl.classList.remove('colab-df-spinner');\n",
              "      quickchartButtonEl.classList.add('colab-df-quickchart-complete');\n",
              "    }\n",
              "    (() => {\n",
              "      let quickchartButtonEl =\n",
              "        document.querySelector('#df-d9c67898-1712-4c74-90b0-6395203e2d13 button');\n",
              "      quickchartButtonEl.style.display =\n",
              "        google.colab.kernel.accessAllowed ? 'block' : 'none';\n",
              "    })();\n",
              "  </script>\n",
              "</div>\n",
              "\n",
              "  <div id=\"id_399dc60f-5f07-4f16-8c08-8203146864a3\">\n",
              "    <style>\n",
              "      .colab-df-generate {\n",
              "        background-color: #E8F0FE;\n",
              "        border: none;\n",
              "        border-radius: 50%;\n",
              "        cursor: pointer;\n",
              "        display: none;\n",
              "        fill: #1967D2;\n",
              "        height: 32px;\n",
              "        padding: 0 0 0 0;\n",
              "        width: 32px;\n",
              "      }\n",
              "\n",
              "      .colab-df-generate:hover {\n",
              "        background-color: #E2EBFA;\n",
              "        box-shadow: 0px 1px 2px rgba(60, 64, 67, 0.3), 0px 1px 3px 1px rgba(60, 64, 67, 0.15);\n",
              "        fill: #174EA6;\n",
              "      }\n",
              "\n",
              "      [theme=dark] .colab-df-generate {\n",
              "        background-color: #3B4455;\n",
              "        fill: #D2E3FC;\n",
              "      }\n",
              "\n",
              "      [theme=dark] .colab-df-generate:hover {\n",
              "        background-color: #434B5C;\n",
              "        box-shadow: 0px 1px 3px 1px rgba(0, 0, 0, 0.15);\n",
              "        filter: drop-shadow(0px 1px 2px rgba(0, 0, 0, 0.3));\n",
              "        fill: #FFFFFF;\n",
              "      }\n",
              "    </style>\n",
              "    <button class=\"colab-df-generate\" onclick=\"generateWithVariable('data')\"\n",
              "            title=\"Generate code using this dataframe.\"\n",
              "            style=\"display:none;\">\n",
              "\n",
              "  <svg xmlns=\"http://www.w3.org/2000/svg\" height=\"24px\"viewBox=\"0 0 24 24\"\n",
              "       width=\"24px\">\n",
              "    <path d=\"M7,19H8.4L18.45,9,17,7.55,7,17.6ZM5,21V16.75L18.45,3.32a2,2,0,0,1,2.83,0l1.4,1.43a1.91,1.91,0,0,1,.58,1.4,1.91,1.91,0,0,1-.58,1.4L9.25,21ZM18.45,9,17,7.55Zm-12,3A5.31,5.31,0,0,0,4.9,8.1,5.31,5.31,0,0,0,1,6.5,5.31,5.31,0,0,0,4.9,4.9,5.31,5.31,0,0,0,6.5,1,5.31,5.31,0,0,0,8.1,4.9,5.31,5.31,0,0,0,12,6.5,5.46,5.46,0,0,0,6.5,12Z\"/>\n",
              "  </svg>\n",
              "    </button>\n",
              "    <script>\n",
              "      (() => {\n",
              "      const buttonEl =\n",
              "        document.querySelector('#id_399dc60f-5f07-4f16-8c08-8203146864a3 button.colab-df-generate');\n",
              "      buttonEl.style.display =\n",
              "        google.colab.kernel.accessAllowed ? 'block' : 'none';\n",
              "\n",
              "      buttonEl.onclick = () => {\n",
              "        google.colab.notebook.generateWithVariable('data');\n",
              "      }\n",
              "      })();\n",
              "    </script>\n",
              "  </div>\n",
              "\n",
              "    </div>\n",
              "  </div>\n"
            ],
            "application/vnd.google.colaboratory.intrinsic+json": {
              "type": "dataframe",
              "variable_name": "data",
              "summary": "{\n  \"name\": \"data\",\n  \"rows\": 2452,\n  \"fields\": [\n    {\n      \"column\": \"Date\",\n      \"properties\": {\n        \"dtype\": \"date\",\n        \"min\": \"2014-03-27 00:00:00\",\n        \"max\": \"2023-12-20 00:00:00\",\n        \"num_unique_values\": 2452,\n        \"samples\": [\n          \"2022-08-18 00:00:00\",\n          \"2017-01-05 00:00:00\",\n          \"2018-11-08 00:00:00\"\n        ],\n        \"semantic_type\": \"\",\n        \"description\": \"\"\n      }\n    },\n    {\n      \"column\": \"Open\",\n      \"properties\": {\n        \"dtype\": \"number\",\n        \"std\": 37.07433701929391,\n        \"min\": 24.664783477783203,\n        \"max\": 151.86349487304688,\n        \"num_unique_values\": 2383,\n        \"samples\": [\n          37.11800003051758,\n          132.9199981689453,\n          102.09200286865234\n        ],\n        \"semantic_type\": \"\",\n        \"description\": \"\"\n      }\n    },\n    {\n      \"column\": \"High\",\n      \"properties\": {\n        \"dtype\": \"number\",\n        \"std\": 37.528438028518394,\n        \"min\": 24.73090171813965,\n        \"max\": 152.10000610351562,\n        \"num_unique_values\": 2415,\n        \"samples\": [\n          37.895999908447266,\n          25.092607498168945,\n          87.0425033569336\n        ],\n        \"semantic_type\": \"\",\n        \"description\": \"\"\n      }\n    },\n    {\n      \"column\": \"Low\",\n      \"properties\": {\n        \"dtype\": \"number\",\n        \"std\": 36.67174897615443,\n        \"min\": 24.31125259399414,\n        \"max\": 149.8874969482422,\n        \"num_unique_values\": 2417,\n        \"samples\": [\n          35.56650161743164,\n          24.582508087158203,\n          87.80400085449219\n        ],\n        \"semantic_type\": \"\",\n        \"description\": \"\"\n      }\n    },\n    {\n      \"column\": \"Close\",\n      \"properties\": {\n        \"dtype\": \"number\",\n        \"std\": 37.09945422199359,\n        \"min\": 24.560070037841797,\n        \"max\": 150.70899963378906,\n        \"num_unique_values\": 2416,\n        \"samples\": [\n          37.0,\n          24.974931716918945,\n          90.92749786376953\n        ],\n        \"semantic_type\": \"\",\n        \"description\": \"\"\n      }\n    },\n    {\n      \"column\": \"Adj Close\",\n      \"properties\": {\n        \"dtype\": \"number\",\n        \"std\": 37.05728472213485,\n        \"min\": 24.532154083251953,\n        \"max\": 150.53768920898438,\n        \"num_unique_values\": 2416,\n        \"samples\": [\n          36.957942962646484,\n          24.946544647216797,\n          90.82414245605469\n        ],\n        \"semantic_type\": \"\",\n        \"description\": \"\"\n      }\n    },\n    {\n      \"column\": \"Volume\",\n      \"properties\": {\n        \"dtype\": \"number\",\n        \"std\": 15987466,\n        \"min\": 158434,\n        \"max\": 223298000,\n        \"num_unique_values\": 2368,\n        \"samples\": [\n          26628000,\n          20810980,\n          16916000\n        ],\n        \"semantic_type\": \"\",\n        \"description\": \"\"\n      }\n    }\n  ]\n}"
            }
          },
          "metadata": {},
          "execution_count": 16
        }
      ]
    },
    {
      "cell_type": "code",
      "source": [
        "ma_100_days = data.Close.rolling(100).mean() #100 days moving average"
      ],
      "metadata": {
        "id": "QNr2qH93_Oaz"
      },
      "execution_count": 17,
      "outputs": []
    },
    {
      "cell_type": "code",
      "source": [
        "plt.figure(figsize=(6,4))\n",
        "plt.plot(ma_100_days,'r')\n",
        "plt.plot(data.Close, 'g' )\n",
        "plt.show()"
      ],
      "metadata": {
        "colab": {
          "base_uri": "https://localhost:8080/",
          "height": 368
        },
        "id": "isO2aIFd_mz5",
        "outputId": "fa6c7d3f-1ef0-41df-ccc6-03c6527801e7"
      },
      "execution_count": 23,
      "outputs": [
        {
          "output_type": "display_data",
          "data": {
            "text/plain": [
              "<Figure size 600x400 with 1 Axes>"
            ],
            "image/png": "[encoded data removed]"
          },
          "metadata": {}
        }
      ]
    },
    {
      "cell_type": "code",
      "source": [
        "ma_200_days = data.Close.rolling(200).mean() #200 days moving average"
      ],
      "metadata": {
        "id": "hcJshLKwANBA"
      },
      "execution_count": 25,
      "outputs": []
    },
    {
      "cell_type": "code",
      "source": [
        "plt.figure(figsize=(6,4))\n",
        "plt.plot(ma_100_days,'r')\n",
        "plt.plot(ma_200_days,'b')\n",
        "plt.plot(data.Close, 'g' )\n",
        "plt.show()"
      ],
      "metadata": {
        "colab": {
          "base_uri": "https://localhost:8080/",
          "height": 368
        },
        "id": "RUoDWs2WA293",
        "outputId": "71b8fdcf-60de-4d3f-8caf-04147769a1b6"
      },
      "execution_count": 27,
      "outputs": [
        {
          "output_type": "display_data",
          "data": {
            "text/plain": [
              "<Figure size 600x400 with 1 Axes>"
            ],
            "image/png": "[encoded data removed]"
          },
          "metadata": {}
        }
      ]
    },
    {
      "cell_type": "code",
      "source": [
        "data.dropna(inplace=True)"
      ],
      "metadata": {
        "id": "ao5-s6BbBN0A"
      },
      "execution_count": 28,
      "outputs": []
    },
    {
      "cell_type": "code",
      "source": [
        "data_train = pd.DataFrame(data.Close[0: int(len(data)*0.80)])\n",
        "data_test = pd.DataFrame(data.Close[int(len(data)*0.80): len(data)])"
      ],
      "metadata": {
        "id": "-L7GVOnaBSmi"
      },
      "execution_count": 37,
      "outputs": []
    },
    {
      "cell_type": "code",
      "source": [
        "data_train.shape"
      ],
      "metadata": {
        "colab": {
          "base_uri": "https://localhost:8080/"
        },
        "id": "6mx7WV5YBR0a",
        "outputId": "0936d116-e8dd-44b8-e706-2d88a2c4561f"
      },
      "execution_count": 38,
      "outputs": [
        {
          "output_type": "execute_result",
          "data": {
            "text/plain": [
              "(1961, 1)"
            ]
          },
          "metadata": {},
          "execution_count": 38
        }
      ]
    },
    {
      "cell_type": "code",
      "source": [
        "data_test.shape"
      ],
      "metadata": {
        "colab": {
          "base_uri": "https://localhost:8080/"
        },
        "id": "gazhk3SsC-2v",
        "outputId": "3015de7a-be85-4d0f-9385-ad4b88daa0df"
      },
      "execution_count": 39,
      "outputs": [
        {
          "output_type": "execute_result",
          "data": {
            "text/plain": [
              "(491, 1)"
            ]
          },
          "metadata": {},
          "execution_count": 39
        }
      ]
    },
    {
      "cell_type": "code",
      "source": [
        "from sklearn.preprocessing import MinMaxScaler\n",
        "scaler = MinMaxScaler(feature_range=(0,1))"
      ],
      "metadata": {
        "id": "QsVxEXdfDNQF"
      },
      "execution_count": 40,
      "outputs": []
    },
    {
      "cell_type": "code",
      "source": [
        "data_train_scale = scaler.fit_transform(data_train)"
      ],
      "metadata": {
        "id": "d2SBKp36DhLT"
      },
      "execution_count": 44,
      "outputs": []
    },
    {
      "cell_type": "code",
      "source": [
        "x=[]\n",
        "y=[]\n",
        "for i in range(100,data_train_scale.shape[0]):\n",
        "  x.append(data_train_scale[i-100:i])\n",
        "  y.append(data_train_scale[i,0])"
      ],
      "metadata": {
        "id": "Wongr-v5DwWO"
      },
      "execution_count": 46,
      "outputs": []
    },
    {
      "cell_type": "code",
      "source": [
        "x,y = np.array(x),np.array(y)"
      ],
      "metadata": {
        "id": "HH68j3_jF8km"
      },
      "execution_count": 101,
      "outputs": []
    },
    {
      "cell_type": "code",
      "source": [
        "from keras.layers import Dense, Dropout,LSTM\n",
        "from keras.models import Sequential"
      ],
      "metadata": {
        "id": "PTWYVFvHEJT0"
      },
      "execution_count": 56,
      "outputs": []
    },
    {
      "cell_type": "code",
      "source": [
        "model = Sequential()\n",
        "\n",
        "model.add(LSTM(units=50,activation='relu', return_sequences=True,input_shape= ((x.shape[1],1))))\n",
        "model.add(Dropout(0.2))\n",
        "\n",
        "model.add(LSTM(units=60,activation='relu', return_sequences=True))\n",
        "model.add(Dropout(0.3))\n",
        "\n",
        "model.add(LSTM(units=40,activation='relu', return_sequences=True))\n",
        "model.add(Dropout(0.4))\n",
        "\n",
        "model.add(LSTM(units=120,activation='relu'))\n",
        "model.add(Dropout(0.5))\n",
        "\n",
        "model.add(Dense(units =1))"
      ],
      "metadata": {
        "id": "0aZgSDcyEw0P"
      },
      "execution_count": 57,
      "outputs": []
    },
    {
      "cell_type": "code",
      "source": [
        "model.compile(optimizer='adam', loss='mean_squared_error', metrics=['mae'])"
      ],
      "metadata": {
        "id": "SofDjAtcGUWy"
      },
      "execution_count": 67,
      "outputs": []
    },
    {
      "cell_type": "code",
      "source": [
        "model.fit(x, y, epochs=50, batch_size=32, verbose=1)"
      ],
      "metadata": {
        "colab": {
          "base_uri": "https://localhost:8080/"
        },
        "id": "JnJ7YnCRGcDf",
        "outputId": "acd5bcc0-8813-44e9-f42c-29b460437c6a"
      },
      "execution_count": 66,
      "outputs": [
        {
          "output_type": "stream",
          "name": "stdout",
          "text": [
            "Epoch 1/50\n",
            "59/59 [==============================] - 20s 250ms/step - loss: 0.0300 - mae: 0.1116\n",
            "Epoch 2/50\n",
            "59/59 [==============================] - 15s 252ms/step - loss: 0.0064 - mae: 0.0533\n",
            "Epoch 3/50\n",
            "59/59 [==============================] - 15s 244ms/step - loss: 0.0060 - mae: 0.0507\n",
            "Epoch 4/50\n",
            "59/59 [==============================] - 14s 244ms/step - loss: 0.0049 - mae: 0.0447\n",
            "Epoch 5/50\n",
            "59/59 [==============================] - 14s 244ms/step - loss: 0.0042 - mae: 0.0410\n",
            "Epoch 6/50\n",
            "59/59 [==============================] - 14s 243ms/step - loss: 0.0054 - mae: 0.0494\n",
            "Epoch 7/50\n",
            "59/59 [==============================] - 14s 245ms/step - loss: 0.0040 - mae: 0.0401\n",
            "Epoch 8/50\n",
            "59/59 [==============================] - 14s 245ms/step - loss: 0.0035 - mae: 0.0376\n",
            "Epoch 9/50\n",
            "59/59 [==============================] - 14s 243ms/step - loss: 0.0036 - mae: 0.0376\n",
            "Epoch 10/50\n",
            "59/59 [==============================] - 14s 243ms/step - loss: 0.0029 - mae: 0.0351\n",
            "Epoch 11/50\n",
            "59/59 [==============================] - 14s 244ms/step - loss: 0.0042 - mae: 0.0452\n",
            "Epoch 12/50\n",
            "59/59 [==============================] - 14s 244ms/step - loss: 0.0036 - mae: 0.0379\n",
            "Epoch 13/50\n",
            "59/59 [==============================] - 14s 243ms/step - loss: 0.0032 - mae: 0.0365\n",
            "Epoch 14/50\n",
            "59/59 [==============================] - 14s 243ms/step - loss: 0.0032 - mae: 0.0353\n",
            "Epoch 15/50\n",
            "59/59 [==============================] - 14s 245ms/step - loss: 0.0035 - mae: 0.0383\n",
            "Epoch 16/50\n",
            "59/59 [==============================] - 14s 243ms/step - loss: 0.0026 - mae: 0.0321\n",
            "Epoch 17/50\n",
            "59/59 [==============================] - 15s 250ms/step - loss: 0.0026 - mae: 0.0321\n",
            "Epoch 18/50\n",
            "59/59 [==============================] - 15s 250ms/step - loss: 0.0026 - mae: 0.0319\n",
            "Epoch 19/50\n",
            "59/59 [==============================] - 15s 250ms/step - loss: 0.0026 - mae: 0.0329\n",
            "Epoch 20/50\n",
            "59/59 [==============================] - 14s 246ms/step - loss: 0.0027 - mae: 0.0338\n",
            "Epoch 21/50\n",
            "59/59 [==============================] - 14s 245ms/step - loss: 0.0024 - mae: 0.0321\n",
            "Epoch 22/50\n",
            "59/59 [==============================] - 14s 242ms/step - loss: 0.0027 - mae: 0.0334\n",
            "Epoch 23/50\n",
            "59/59 [==============================] - 14s 245ms/step - loss: 0.0026 - mae: 0.0332\n",
            "Epoch 24/50\n",
            "59/59 [==============================] - 14s 243ms/step - loss: 0.0023 - mae: 0.0308\n",
            "Epoch 25/50\n",
            "59/59 [==============================] - 14s 243ms/step - loss: 0.0026 - mae: 0.0335\n",
            "Epoch 26/50\n",
            "59/59 [==============================] - 14s 244ms/step - loss: 0.0023 - mae: 0.0323\n",
            "Epoch 27/50\n",
            "59/59 [==============================] - 14s 245ms/step - loss: 0.0027 - mae: 0.0354\n",
            "Epoch 28/50\n",
            "59/59 [==============================] - 14s 244ms/step - loss: 0.0022 - mae: 0.0311\n",
            "Epoch 29/50\n",
            "59/59 [==============================] - 14s 246ms/step - loss: 0.0022 - mae: 0.0302\n",
            "Epoch 30/50\n",
            "59/59 [==============================] - 14s 243ms/step - loss: 0.0025 - mae: 0.0322\n",
            "Epoch 31/50\n",
            "59/59 [==============================] - 15s 246ms/step - loss: 0.0024 - mae: 0.0319\n",
            "Epoch 32/50\n",
            "59/59 [==============================] - 15s 256ms/step - loss: 0.0022 - mae: 0.0310\n",
            "Epoch 33/50\n",
            "59/59 [==============================] - 15s 260ms/step - loss: 0.0025 - mae: 0.0325\n",
            "Epoch 34/50\n",
            "59/59 [==============================] - 15s 251ms/step - loss: 0.0022 - mae: 0.0306\n",
            "Epoch 35/50\n",
            "59/59 [==============================] - 14s 245ms/step - loss: 0.0024 - mae: 0.0310\n",
            "Epoch 36/50\n",
            "59/59 [==============================] - 15s 251ms/step - loss: 0.0026 - mae: 0.0350\n",
            "Epoch 37/50\n",
            "59/59 [==============================] - 15s 250ms/step - loss: 0.0022 - mae: 0.0313\n",
            "Epoch 38/50\n",
            "59/59 [==============================] - 14s 244ms/step - loss: 0.0022 - mae: 0.0321\n",
            "Epoch 39/50\n",
            "59/59 [==============================] - 14s 242ms/step - loss: 0.0023 - mae: 0.0308\n",
            "Epoch 40/50\n",
            "59/59 [==============================] - 14s 244ms/step - loss: 0.0019 - mae: 0.0297\n",
            "Epoch 41/50\n",
            "59/59 [==============================] - 14s 244ms/step - loss: 0.0021 - mae: 0.0309\n",
            "Epoch 42/50\n",
            "59/59 [==============================] - 14s 244ms/step - loss: 0.0021 - mae: 0.0299\n",
            "Epoch 43/50\n",
            "59/59 [==============================] - 14s 240ms/step - loss: 0.0019 - mae: 0.0299\n",
            "Epoch 44/50\n",
            "59/59 [==============================] - 14s 243ms/step - loss: 0.0020 - mae: 0.0293\n",
            "Epoch 45/50\n",
            "59/59 [==============================] - 14s 240ms/step - loss: 0.0023 - mae: 0.0314\n",
            "Epoch 46/50\n",
            "59/59 [==============================] - 15s 248ms/step - loss: 0.0021 - mae: 0.0304\n",
            "Epoch 47/50\n",
            "59/59 [==============================] - 15s 247ms/step - loss: 0.0021 - mae: 0.0305\n",
            "Epoch 48/50\n",
            "59/59 [==============================] - 15s 250ms/step - loss: 0.0021 - mae: 0.0306\n",
            "Epoch 49/50\n",
            "59/59 [==============================] - 15s 246ms/step - loss: 0.0022 - mae: 0.0309\n",
            "Epoch 50/50\n",
            "59/59 [==============================] - 14s 245ms/step - loss: 0.0022 - mae: 0.0318\n"
          ]
        },
        {
          "output_type": "execute_result",
          "data": {
            "text/plain": [
              "<keras.src.callbacks.History at 0x790044e8ca60>"
            ]
          },
          "metadata": {},
          "execution_count": 66
        }
      ]
    },
    {
      "cell_type": "code",
      "source": [
        "model.summary()"
      ],
      "metadata": {
        "colab": {
          "base_uri": "https://localhost:8080/"
        },
        "id": "rMJz1lI_TeFD",
        "outputId": "8fbe2208-c166-4c2f-a094-7257585aceab"
      },
      "execution_count": 68,
      "outputs": [
        {
          "output_type": "stream",
          "name": "stdout",
          "text": [
            "Model: \"sequential_1\"\n",
            "_________________________________________________________________\n",
            " Layer (type)                Output Shape              Param #   \n",
            "=================================================================\n",
            " lstm_4 (LSTM)               (None, 100, 50)           10400     \n",
            "                                                                 \n",
            " dropout_4 (Dropout)         (None, 100, 50)           0         \n",
            "                                                                 \n",
            " lstm_5 (LSTM)               (None, 100, 60)           26640     \n",
            "                                                                 \n",
            " dropout_5 (Dropout)         (None, 100, 60)           0         \n",
            "                                                                 \n",
            " lstm_6 (LSTM)               (None, 100, 40)           16160     \n",
            "                                                                 \n",
            " dropout_6 (Dropout)         (None, 100, 40)           0         \n",
            "                                                                 \n",
            " lstm_7 (LSTM)               (None, 120)               77280     \n",
            "                                                                 \n",
            " dropout_7 (Dropout)         (None, 120)               0         \n",
            "                                                                 \n",
            " dense_1 (Dense)             (None, 1)                 121       \n",
            "                                                                 \n",
            "=================================================================\n",
            "Total params: 130601 (510.16 KB)\n",
            "Trainable params: 130601 (510.16 KB)\n",
            "Non-trainable params: 0 (0.00 Byte)\n",
            "_________________________________________________________________\n"
          ]
        }
      ]
    },
    {
      "cell_type": "code",
      "source": [
        "pas_100_days = data_train.tail(100)"
      ],
      "metadata": {
        "id": "XKj-Y3KRTlNz"
      },
      "execution_count": 91,
      "outputs": []
    },
    {
      "cell_type": "code",
      "source": [
        "data_test = pd.concat([pas_100_days,data_test],ignore_index=True)"
      ],
      "metadata": {
        "id": "uiSguoLyUHws"
      },
      "execution_count": 92,
      "outputs": []
    },
    {
      "cell_type": "code",
      "source": [
        "data_test_scale = scaler.fit_transform(data_test)"
      ],
      "metadata": {
        "id": "GwBrcG5NUbTP"
      },
      "execution_count": 93,
      "outputs": []
    },
    {
      "cell_type": "code",
      "source": [
        "x=[]\n",
        "y=[]\n",
        "for i in range(100,data_test_scale.shape[0]):\n",
        "  x.append(data_test_scale[i-100:i])\n",
        "  y.append(data_test_scale[i,0])\n",
        "x,y = np.array(x),np.array(y)"
      ],
      "metadata": {
        "id": "x9BIatRnUokI"
      },
      "execution_count": 94,
      "outputs": []
    },
    {
      "cell_type": "code",
      "source": [
        "y_predict = model.predict(x)"
      ],
      "metadata": {
        "colab": {
          "base_uri": "https://localhost:8080/"
        },
        "id": "OftupJV3U9LG",
        "outputId": "032cabb0-f564-487a-f8f6-ced39d3703ee"
      },
      "execution_count": 95,
      "outputs": [
        {
          "output_type": "stream",
          "name": "stdout",
          "text": [
            "19/19 [==============================] - 1s 64ms/step\n"
          ]
        }
      ]
    },
    {
      "cell_type": "code",
      "source": [
        "scale =1/scaler.scale_"
      ],
      "metadata": {
        "id": "dzE7UprbVFP-"
      },
      "execution_count": 96,
      "outputs": []
    },
    {
      "cell_type": "code",
      "source": [
        "y_predict =y_predict * scale"
      ],
      "metadata": {
        "id": "EibnSFCNVNcn"
      },
      "execution_count": 97,
      "outputs": []
    },
    {
      "cell_type": "code",
      "source": [
        "y = y *scale"
      ],
      "metadata": {
        "id": "uDa1VmnfVeto"
      },
      "execution_count": 98,
      "outputs": []
    },
    {
      "cell_type": "code",
      "source": [
        "plt.figure(figsize=(6,4))\n",
        "plt.plot(y_predict,'r',label='Predicted Price')\n",
        "plt.plot(y,'g',label='Original Price')\n",
        "plt.xlabel('Time')\n",
        "plt.ylabel('Price')\n",
        "plt.legend()\n",
        "plt.show()"
      ],
      "metadata": {
        "colab": {
          "base_uri": "https://localhost:8080/",
          "height": 391
        },
        "id": "IbSIDWDaVsGQ",
        "outputId": "8a026fa4-8308-44f3-a323-ee34586fb799"
      },
      "execution_count": 99,
      "outputs": [
        {
          "output_type": "display_data",
          "data": {
            "text/plain": [
              "<Figure size 600x400 with 1 Axes>"
            ],
            "image/png": "[encoded data removed]"
          },
          "metadata": {}
        }
      ]
    },
    {
      "cell_type": "code",
      "source": [
        "model.save('Stock Predictions Model.keras')"
      ],
      "metadata": {
        "id": "NUo27OtiW0Sr"
      },
      "execution_count": 100,
      "outputs": []
    },
    {
      "cell_type": "code",
      "source": [],
      "metadata": {
        "id": "Bj5AuJ-VWtJz"
      },
      "execution_count": null,
      "outputs": []
    }
  ]
}